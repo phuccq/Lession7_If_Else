{
 "cells": [
  {
   "cell_type": "code",
   "execution_count": 7,
   "id": "94ae47c4",
   "metadata": {},
   "outputs": [
    {
     "name": "stdout",
     "output_type": "stream",
     "text": [
      "Nhập cân nặng (kg):58\n",
      "Nhập chiều cao (m):1.75\n",
      "Bình thường\n"
     ]
    }
   ],
   "source": [
    "#Bải tập learn: Tính chỉ số cân nặng của cơ thể\n",
    "#BMI = cân nặng / (chiều cao ^ 2)\n",
    "\n",
    "nang = float(input(r\"Nhập cân nặng (kg):\"))\n",
    "cao = float(input(r\"Nhập chiều cao (m):\"))\n",
    "bmi = nang/(cao * cao)\n",
    "if bmi < 16:\n",
    "    print(\"Gầy cấp độ III\")\n",
    "elif bmi >= 16 and bmi < 17:\n",
    "    print(\"Gầy cấp độ II\")\n",
    "elif bmi >= 17 and bmi < 18.5:\n",
    "    print(\"Gầy cấp độ I\")\n",
    "elif bmi >= 18.5 and bmi < 25:\n",
    "    print(\"Bình thường\")\n",
    "elif bmi >= 25 and bmi < 30:\n",
    "    print(\"Thừa cân\")\n",
    "elif bmi >= 30 and bmi < 35:\n",
    "    print(\"Béo phì cấp độ I\")\n",
    "elif bmi >= 35 and bmi < 40:\n",
    "    print(\"Béo phì cấp độ II\")\n",
    "else:\n",
    "    print(\"Béo phì cấp độ III\")\n",
    "# print(bmi)"
   ]
  },
  {
   "cell_type": "code",
   "execution_count": null,
   "id": "aa8af058",
   "metadata": {},
   "outputs": [],
   "source": []
  }
 ],
 "metadata": {
  "kernelspec": {
   "display_name": "Python 3 (ipykernel)",
   "language": "python",
   "name": "python3"
  },
  "language_info": {
   "codemirror_mode": {
    "name": "ipython",
    "version": 3
   },
   "file_extension": ".py",
   "mimetype": "text/x-python",
   "name": "python",
   "nbconvert_exporter": "python",
   "pygments_lexer": "ipython3",
   "version": "3.9.12"
  }
 },
 "nbformat": 4,
 "nbformat_minor": 5
}
