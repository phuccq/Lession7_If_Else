{
 "cells": [
  {
   "cell_type": "code",
   "execution_count": 3,
   "id": "18858c08",
   "metadata": {},
   "outputs": [
    {
     "name": "stdout",
     "output_type": "stream",
     "text": [
      "Nhập vào số nguyên bất kỳ:3\n",
      "Số lẻ\n"
     ]
    }
   ],
   "source": [
    "n = int(input(\"Nhập vào số nguyên bất kỳ:\"))\n",
    "ket_qua = \"Số chẵn\" if n%2 == 0 else \"Số lẻ\"\n",
    "print(ket_qua)"
   ]
  },
  {
   "cell_type": "code",
   "execution_count": null,
   "id": "155c0eac",
   "metadata": {},
   "outputs": [],
   "source": []
  }
 ],
 "metadata": {
  "kernelspec": {
   "display_name": "Python 3 (ipykernel)",
   "language": "python",
   "name": "python3"
  },
  "language_info": {
   "codemirror_mode": {
    "name": "ipython",
    "version": 3
   },
   "file_extension": ".py",
   "mimetype": "text/x-python",
   "name": "python",
   "nbconvert_exporter": "python",
   "pygments_lexer": "ipython3",
   "version": "3.9.12"
  }
 },
 "nbformat": 4,
 "nbformat_minor": 5
}
