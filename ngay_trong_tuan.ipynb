{
 "cells": [
  {
   "cell_type": "code",
   "execution_count": 1,
   "id": "5ba38586",
   "metadata": {},
   "outputs": [
    {
     "name": "stdout",
     "output_type": "stream",
     "text": [
      "Nhập số từ 1 đến 7:5\n",
      "Thứ sáu\n"
     ]
    }
   ],
   "source": [
    "#Bài tập learn: Nhập số để hiển thị ngày trong tuần\n",
    "n = int(input(\"Nhập số từ 1 đến 7:\"))\n",
    "if n == 1:\n",
    "    print(\"Thứ hai\")\n",
    "elif n == 2:\n",
    "    print(\"Thứ ba\")\n",
    "elif n == 3:\n",
    "    print(\"Thứ tư\")\n",
    "elif n == 4:\n",
    "    print(\"Thứ năm\")\n",
    "elif n == 5:\n",
    "    print(\"Thứ sáu\")\n",
    "elif n == 6:\n",
    "    print(\"Thứ bảy\")\n",
    "elif n == 7:\n",
    "    print(\"Chủ nhật\")\n",
    "else:\n",
    "    print(\"Lỗi! Hãy nhập số từ 1 đến 7\")"
   ]
  },
  {
   "cell_type": "code",
   "execution_count": null,
   "id": "7a45c7a6",
   "metadata": {},
   "outputs": [],
   "source": []
  }
 ],
 "metadata": {
  "kernelspec": {
   "display_name": "Python 3 (ipykernel)",
   "language": "python",
   "name": "python3"
  },
  "language_info": {
   "codemirror_mode": {
    "name": "ipython",
    "version": 3
   },
   "file_extension": ".py",
   "mimetype": "text/x-python",
   "name": "python",
   "nbconvert_exporter": "python",
   "pygments_lexer": "ipython3",
   "version": "3.9.12"
  }
 },
 "nbformat": 4,
 "nbformat_minor": 5
}
