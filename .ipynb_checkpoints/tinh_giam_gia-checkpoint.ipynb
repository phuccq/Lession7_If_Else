{
 "cells": [
  {
   "cell_type": "code",
   "execution_count": 7,
   "id": "f7479884",
   "metadata": {},
   "outputs": [
    {
     "name": "stdout",
     "output_type": "stream",
     "text": [
      "Nhập số tiền quý khách đã mua:80\n",
      "Số tiền được giảm là 15\n"
     ]
    }
   ],
   "source": [
    "#Bài tập learn: Tính số tiền giảm giá cho khách hàng\n",
    "chitieu = int(input(\"Nhập số tiền quý khách đã mua:\"))\n",
    "giamgia = 0\n",
    "if chitieu < 75:\n",
    "    giamgia = 0\n",
    "elif chitieu >= 75 and chitieu < 100:\n",
    "    giamgia = 15\n",
    "elif chitieu >= 100 and chitieu < 150:\n",
    "    giamgia = 25\n",
    "else:\n",
    "    giamgia = 50\n",
    "print(f\"Số tiền được giảm là {giamgia}\")"
   ]
  },
  {
   "cell_type": "code",
   "execution_count": null,
   "id": "ad200c7b",
   "metadata": {},
   "outputs": [],
   "source": []
  }
 ],
 "metadata": {
  "kernelspec": {
   "display_name": "Python 3 (ipykernel)",
   "language": "python",
   "name": "python3"
  },
  "language_info": {
   "codemirror_mode": {
    "name": "ipython",
    "version": 3
   },
   "file_extension": ".py",
   "mimetype": "text/x-python",
   "name": "python",
   "nbconvert_exporter": "python",
   "pygments_lexer": "ipython3",
   "version": "3.9.12"
  }
 },
 "nbformat": 4,
 "nbformat_minor": 5
}
