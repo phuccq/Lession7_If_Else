{
 "cells": [
  {
   "cell_type": "code",
   "execution_count": 5,
   "id": "fcaf102e",
   "metadata": {},
   "outputs": [
    {
     "name": "stdout",
     "output_type": "stream",
     "text": [
      "Nhập vào số nguyên bất kỳ:3.14\n",
      "Không phải số tự nhiên\n"
     ]
    }
   ],
   "source": [
    "n = float(input(\"Nhập vào số nguyên bất kỳ:\"))\n",
    "if n % 2 == 0:\n",
    "    print(\"Số chẵn\")\n",
    "elif n % 2 == 1:\n",
    "    print(\"Số lẻ\")    \n",
    "else:\n",
    "    print(\"Không phải số tự nhiên\")"
   ]
  },
  {
   "cell_type": "code",
   "execution_count": null,
   "id": "a750c4bb",
   "metadata": {},
   "outputs": [],
   "source": []
  }
 ],
 "metadata": {
  "kernelspec": {
   "display_name": "Python 3 (ipykernel)",
   "language": "python",
   "name": "python3"
  },
  "language_info": {
   "codemirror_mode": {
    "name": "ipython",
    "version": 3
   },
   "file_extension": ".py",
   "mimetype": "text/x-python",
   "name": "python",
   "nbconvert_exporter": "python",
   "pygments_lexer": "ipython3",
   "version": "3.9.12"
  }
 },
 "nbformat": 4,
 "nbformat_minor": 5
}
